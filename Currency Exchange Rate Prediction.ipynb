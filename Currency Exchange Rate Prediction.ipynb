{
 "cells": [
  {
   "cell_type": "code",
   "execution_count": 18,
   "id": "9f9d6f6b-7858-4db6-845c-74a492282d58",
   "metadata": {},
   "outputs": [],
   "source": [
    "# Import Needed Liberaries:\n",
    "import numpy as np\n",
    "import pandas as pd\n",
    "import matplotlib.pyplot as plt\n",
    "import seaborn as sns\n",
    "from seaborn import regression\n",
    "sns.set()\n",
    "sns.set_style(\"whitegrid\")\n"
   ]
  },
  {
   "cell_type": "code",
   "execution_count": 19,
   "id": "e09883c9-436c-4272-ad8f-6c78f630f3b7",
   "metadata": {},
   "outputs": [
    {
     "data": {
      "text/html": [
       "<div>\n",
       "<style scoped>\n",
       "    .dataframe tbody tr th:only-of-type {\n",
       "        vertical-align: middle;\n",
       "    }\n",
       "\n",
       "    .dataframe tbody tr th {\n",
       "        vertical-align: top;\n",
       "    }\n",
       "\n",
       "    .dataframe thead th {\n",
       "        text-align: right;\n",
       "    }\n",
       "</style>\n",
       "<table border=\"1\" class=\"dataframe\">\n",
       "  <thead>\n",
       "    <tr style=\"text-align: right;\">\n",
       "      <th></th>\n",
       "      <th>Date</th>\n",
       "      <th>Open</th>\n",
       "      <th>High</th>\n",
       "      <th>Low</th>\n",
       "      <th>Close</th>\n",
       "      <th>Adj Close</th>\n",
       "      <th>Volume</th>\n",
       "    </tr>\n",
       "  </thead>\n",
       "  <tbody>\n",
       "    <tr>\n",
       "      <th>0</th>\n",
       "      <td>2022-04-18</td>\n",
       "      <td>76.331398</td>\n",
       "      <td>76.456497</td>\n",
       "      <td>76.074501</td>\n",
       "      <td>76.331398</td>\n",
       "      <td>76.331398</td>\n",
       "      <td>0</td>\n",
       "    </tr>\n",
       "    <tr>\n",
       "      <th>1</th>\n",
       "      <td>2022-04-19</td>\n",
       "      <td>76.280197</td>\n",
       "      <td>76.561203</td>\n",
       "      <td>76.215500</td>\n",
       "      <td>76.280197</td>\n",
       "      <td>76.280197</td>\n",
       "      <td>0</td>\n",
       "    </tr>\n",
       "    <tr>\n",
       "      <th>2</th>\n",
       "      <td>2022-04-20</td>\n",
       "      <td>76.445396</td>\n",
       "      <td>76.656502</td>\n",
       "      <td>76.153000</td>\n",
       "      <td>76.445396</td>\n",
       "      <td>76.445396</td>\n",
       "      <td>0</td>\n",
       "    </tr>\n",
       "    <tr>\n",
       "      <th>3</th>\n",
       "      <td>2022-04-21</td>\n",
       "      <td>76.276199</td>\n",
       "      <td>76.366402</td>\n",
       "      <td>76.083900</td>\n",
       "      <td>76.276199</td>\n",
       "      <td>76.276199</td>\n",
       "      <td>0</td>\n",
       "    </tr>\n",
       "    <tr>\n",
       "      <th>4</th>\n",
       "      <td>2022-04-22</td>\n",
       "      <td>76.285202</td>\n",
       "      <td>76.746002</td>\n",
       "      <td>76.150002</td>\n",
       "      <td>76.285202</td>\n",
       "      <td>76.285202</td>\n",
       "      <td>0</td>\n",
       "    </tr>\n",
       "  </tbody>\n",
       "</table>\n",
       "</div>"
      ],
      "text/plain": [
       "         Date       Open       High        Low      Close  Adj Close  Volume\n",
       "0  2022-04-18  76.331398  76.456497  76.074501  76.331398  76.331398       0\n",
       "1  2022-04-19  76.280197  76.561203  76.215500  76.280197  76.280197       0\n",
       "2  2022-04-20  76.445396  76.656502  76.153000  76.445396  76.445396       0\n",
       "3  2022-04-21  76.276199  76.366402  76.083900  76.276199  76.276199       0\n",
       "4  2022-04-22  76.285202  76.746002  76.150002  76.285202  76.285202       0"
      ]
     },
     "execution_count": 19,
     "metadata": {},
     "output_type": "execute_result"
    }
   ],
   "source": [
    "# Import our Data:\n",
    "data = pd.read_csv(\"USD_INR.csv\")\n",
    "data.head()"
   ]
  },
  {
   "cell_type": "code",
   "execution_count": 20,
   "id": "c54b7042-35b3-4560-a10b-f436d7d33751",
   "metadata": {},
   "outputs": [
    {
     "data": {
      "text/html": [
       "<div>\n",
       "<style scoped>\n",
       "    .dataframe tbody tr th:only-of-type {\n",
       "        vertical-align: middle;\n",
       "    }\n",
       "\n",
       "    .dataframe tbody tr th {\n",
       "        vertical-align: top;\n",
       "    }\n",
       "\n",
       "    .dataframe thead th {\n",
       "        text-align: right;\n",
       "    }\n",
       "</style>\n",
       "<table border=\"1\" class=\"dataframe\">\n",
       "  <thead>\n",
       "    <tr style=\"text-align: right;\">\n",
       "      <th></th>\n",
       "      <th>Date</th>\n",
       "      <th>Open</th>\n",
       "      <th>High</th>\n",
       "      <th>Low</th>\n",
       "      <th>Close</th>\n",
       "      <th>Adj Close</th>\n",
       "      <th>Volume</th>\n",
       "    </tr>\n",
       "  </thead>\n",
       "  <tbody>\n",
       "    <tr>\n",
       "      <th>0</th>\n",
       "      <td>2022-04-18</td>\n",
       "      <td>76.331398</td>\n",
       "      <td>76.456497</td>\n",
       "      <td>76.074501</td>\n",
       "      <td>76.331398</td>\n",
       "      <td>76.331398</td>\n",
       "      <td>0</td>\n",
       "    </tr>\n",
       "    <tr>\n",
       "      <th>1</th>\n",
       "      <td>2022-04-19</td>\n",
       "      <td>76.280197</td>\n",
       "      <td>76.561203</td>\n",
       "      <td>76.215500</td>\n",
       "      <td>76.280197</td>\n",
       "      <td>76.280197</td>\n",
       "      <td>0</td>\n",
       "    </tr>\n",
       "    <tr>\n",
       "      <th>2</th>\n",
       "      <td>2022-04-20</td>\n",
       "      <td>76.445396</td>\n",
       "      <td>76.656502</td>\n",
       "      <td>76.153000</td>\n",
       "      <td>76.445396</td>\n",
       "      <td>76.445396</td>\n",
       "      <td>0</td>\n",
       "    </tr>\n",
       "    <tr>\n",
       "      <th>3</th>\n",
       "      <td>2022-04-21</td>\n",
       "      <td>76.276199</td>\n",
       "      <td>76.366402</td>\n",
       "      <td>76.083900</td>\n",
       "      <td>76.276199</td>\n",
       "      <td>76.276199</td>\n",
       "      <td>0</td>\n",
       "    </tr>\n",
       "    <tr>\n",
       "      <th>4</th>\n",
       "      <td>2022-04-22</td>\n",
       "      <td>76.285202</td>\n",
       "      <td>76.746002</td>\n",
       "      <td>76.150002</td>\n",
       "      <td>76.285202</td>\n",
       "      <td>76.285202</td>\n",
       "      <td>0</td>\n",
       "    </tr>\n",
       "  </tbody>\n",
       "</table>\n",
       "</div>"
      ],
      "text/plain": [
       "         Date       Open       High        Low      Close  Adj Close  Volume\n",
       "0  2022-04-18  76.331398  76.456497  76.074501  76.331398  76.331398       0\n",
       "1  2022-04-19  76.280197  76.561203  76.215500  76.280197  76.280197       0\n",
       "2  2022-04-20  76.445396  76.656502  76.153000  76.445396  76.445396       0\n",
       "3  2022-04-21  76.276199  76.366402  76.083900  76.276199  76.276199       0\n",
       "4  2022-04-22  76.285202  76.746002  76.150002  76.285202  76.285202       0"
      ]
     },
     "execution_count": 20,
     "metadata": {},
     "output_type": "execute_result"
    }
   ],
   "source": [
    "# Sort the data from old to new date:\n",
    "data = data.sort_values(by='Date', ascending=True)\n",
    "data.head()"
   ]
  },
  {
   "cell_type": "code",
   "execution_count": 21,
   "id": "96ec6ab2-6100-445d-9c47-79fd2ca39e89",
   "metadata": {},
   "outputs": [
    {
     "data": {
      "image/png": "[encoded data removed]",
      "text/plain": [
       "<Figure size 1000x400 with 1 Axes>"
      ]
     },
     "metadata": {},
     "output_type": "display_data"
    }
   ],
   "source": [
    "# Lets take a look on the close price over time:\n",
    "plt.figure(figsize =(10,4))\n",
    "plt.title(\"USD - INR Exhange Rate\")\n",
    "plt.xlabel(\"Date\")\n",
    "plt.ylabel(\"Close\")\n",
    "plt.plot(data[\"Close\"])\n",
    "plt.show()\n"
   ]
  },
  {
   "cell_type": "code",
   "execution_count": 22,
   "id": "dc2362b2-71bd-4307-9ccf-bd1c9321af4f",
   "metadata": {},
   "outputs": [
    {
     "name": "stdout",
     "output_type": "stream",
     "text": [
      "<class 'pandas.core.frame.DataFrame'>\n",
      "RangeIndex: 524 entries, 0 to 523\n",
      "Data columns (total 7 columns):\n",
      " #   Column     Non-Null Count  Dtype  \n",
      "---  ------     --------------  -----  \n",
      " 0   Date       524 non-null    object \n",
      " 1   Open       524 non-null    float64\n",
      " 2   High       524 non-null    float64\n",
      " 3   Low        524 non-null    float64\n",
      " 4   Close      524 non-null    float64\n",
      " 5   Adj Close  524 non-null    float64\n",
      " 6   Volume     524 non-null    int64  \n",
      "dtypes: float64(5), int64(1), object(1)\n",
      "memory usage: 28.8+ KB\n"
     ]
    }
   ],
   "source": [
    "data.info()"
   ]
  },
  {
   "cell_type": "code",
   "execution_count": 23,
   "id": "c996e6a9-4040-4e50-aa8f-513b347f0f1a",
   "metadata": {},
   "outputs": [
    {
     "name": "stdout",
     "output_type": "stream",
     "text": [
      "               Open      High       Low     Close  Adj Close  Volume\n",
      "Open       1.000000  0.993990  0.992596  0.999999   0.999999     NaN\n",
      "High       0.993990  1.000000  0.989861  0.993993   0.993993     NaN\n",
      "Low        0.992596  0.989861  1.000000  0.992594   0.992594     NaN\n",
      "Close      0.999999  0.993993  0.992594  1.000000   1.000000     NaN\n",
      "Adj Close  0.999999  0.993993  0.992594  1.000000   1.000000     NaN\n",
      "Volume          NaN       NaN       NaN       NaN        NaN     NaN\n"
     ]
    }
   ],
   "source": [
    "# Drop the 'date' column\n",
    "df_numeric = data.drop(columns=['Date'])\n",
    "\n",
    "# Calculate correlation\n",
    "correlation = df_numeric.corr()\n",
    "\n",
    "print(correlation)"
   ]
  },
  {
   "cell_type": "code",
   "execution_count": 24,
   "id": "86e1fe34-66ca-48d7-9e9c-474009d1913d",
   "metadata": {},
   "outputs": [
    {
     "name": "stdout",
     "output_type": "stream",
     "text": [
      "<class 'pandas.core.frame.DataFrame'>\n",
      "RangeIndex: 524 entries, 0 to 523\n",
      "Data columns (total 7 columns):\n",
      " #   Column     Non-Null Count  Dtype  \n",
      "---  ------     --------------  -----  \n",
      " 0   Date       524 non-null    object \n",
      " 1   Open       524 non-null    float64\n",
      " 2   High       524 non-null    float64\n",
      " 3   Low        524 non-null    float64\n",
      " 4   Close      524 non-null    float64\n",
      " 5   Adj Close  524 non-null    float64\n",
      " 6   Volume     524 non-null    int64  \n",
      "dtypes: float64(5), int64(1), object(1)\n",
      "memory usage: 28.8+ KB\n"
     ]
    }
   ],
   "source": [
    "data.info()"
   ]
  },
  {
   "cell_type": "code",
   "execution_count": 25,
   "id": "0bc7b876-cb5e-4323-95c0-493a107dcafc",
   "metadata": {},
   "outputs": [
    {
     "data": {
      "image/png": "[encoded data removed]",
      "text/plain": [
       "<Figure size 640x480 with 2 Axes>"
      ]
     },
     "metadata": {},
     "output_type": "display_data"
    }
   ],
   "source": [
    "sns.heatmap(correlation)\n",
    "plt.show()"
   ]
  },
  {
   "cell_type": "code",
   "execution_count": 26,
   "id": "1a452921-8295-44ad-91c2-3828699a12ad",
   "metadata": {},
   "outputs": [],
   "source": [
    "# Now lets prepare our data for prediction:\n",
    "x = data[['Open', 'High', 'Low']]\n",
    "y = data['Close']\n",
    "x = x.to_numpy()\n",
    "y = y.to_numpy()\n",
    "y = y.reshape(-1,1)"
   ]
  },
  {
   "cell_type": "code",
   "execution_count": 27,
   "id": "a6186ff4-d194-48fe-8080-124dbae52bb3",
   "metadata": {},
   "outputs": [],
   "source": [
    "# Now lets build our Model of Decision Tree Regression:\n",
    "\n",
    "from sklearn.model_selection import train_test_split\n",
    "xtrain, xtest, ytrain, ytest = train_test_split(x, y, test_size = 0.2, random_state=42)\n",
    "\n",
    "from sklearn.tree import DecisionTreeRegressor\n",
    "model = DecisionTreeRegressor()\n",
    "model.fit(xtrain, ytrain)\n",
    "ypred = model.predict(xtest)"
   ]
  },
  {
   "cell_type": "code",
   "execution_count": 30,
   "id": "5269a462-80ef-42ed-ae5b-384d6cc59678",
   "metadata": {},
   "outputs": [
    {
     "data": {
      "text/html": [
       "<div>\n",
       "<style scoped>\n",
       "    .dataframe tbody tr th:only-of-type {\n",
       "        vertical-align: middle;\n",
       "    }\n",
       "\n",
       "    .dataframe tbody tr th {\n",
       "        vertical-align: top;\n",
       "    }\n",
       "\n",
       "    .dataframe thead th {\n",
       "        text-align: right;\n",
       "    }\n",
       "</style>\n",
       "<table border=\"1\" class=\"dataframe\">\n",
       "  <thead>\n",
       "    <tr style=\"text-align: right;\">\n",
       "      <th></th>\n",
       "      <th>Predicted Rate</th>\n",
       "    </tr>\n",
       "  </thead>\n",
       "  <tbody>\n",
       "    <tr>\n",
       "      <th>0</th>\n",
       "      <td>81.983902</td>\n",
       "    </tr>\n",
       "    <tr>\n",
       "      <th>1</th>\n",
       "      <td>83.177597</td>\n",
       "    </tr>\n",
       "    <tr>\n",
       "      <th>2</th>\n",
       "      <td>76.472198</td>\n",
       "    </tr>\n",
       "    <tr>\n",
       "      <th>3</th>\n",
       "      <td>82.835297</td>\n",
       "    </tr>\n",
       "    <tr>\n",
       "      <th>4</th>\n",
       "      <td>79.097801</td>\n",
       "    </tr>\n",
       "  </tbody>\n",
       "</table>\n",
       "</div>"
      ],
      "text/plain": [
       "   Predicted Rate\n",
       "0       81.983902\n",
       "1       83.177597\n",
       "2       76.472198\n",
       "3       82.835297\n",
       "4       79.097801"
      ]
     },
     "execution_count": 30,
     "metadata": {},
     "output_type": "execute_result"
    }
   ],
   "source": [
    "# Now lets see the predicted values:\n",
    "df = pd.DataFrame(data={\"Predicted Rate\" : ypred.flatten()})\n",
    "df.head()"
   ]
  }
 ],
 "metadata": {
  "kernelspec": {
   "display_name": "Python 3 (ipykernel)",
   "language": "python",
   "name": "python3"
  },
  "language_info": {
   "codemirror_mode": {
    "name": "ipython",
    "version": 3
   },
   "file_extension": ".py",
   "mimetype": "text/x-python",
   "name": "python",
   "nbconvert_exporter": "python",
   "pygments_lexer": "ipython3",
   "version": "3.9.18"
  }
 },
 "nbformat": 4,
 "nbformat_minor": 5
}
